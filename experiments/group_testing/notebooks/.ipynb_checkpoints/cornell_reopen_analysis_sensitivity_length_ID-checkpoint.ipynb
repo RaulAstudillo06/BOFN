{
 "cells": [
  {
   "cell_type": "code",
   "execution_count": 1,
   "metadata": {},
   "outputs": [],
   "source": [
    "import sys\n",
    "import os\n",
    "import numpy as np\n",
    "module_path = os.path.abspath(os.path.join('..'))\n",
    "if module_path not in sys.path:\n",
    "    sys.path.append(module_path + \"/src/simulations_v2\")\n",
    "\n",
    "from analysis_helpers import poisson_waiting_function, \\\n",
    "                            run_multiple_trajectories, \\\n",
    "                            plot_aip_vs_t, \\\n",
    "                            plot_cip_vs_t, \\\n",
    "                            run_sensitivity_sims, \\\n",
    "                            run_sensitivity_sims_time_dist, \\\n",
    "                            extract_cips"
   ]
  },
  {
   "cell_type": "code",
   "execution_count": 2,
   "metadata": {},
   "outputs": [
    {
     "name": "stdout",
     "output_type": "stream",
     "text": [
      "8.705882352941178\n"
     ]
    }
   ],
   "source": [
    "# what percent of self-reports are from severe symptoms?  \n",
    "# in reality I think this value will vary a lot in the first few days, \n",
    "# and then reach some kind of steady-state, and I'm not sure what makes the most\n",
    "# sense to use here.  I am setting it to the very pessimistic value of 100% of\n",
    "# self-reporters are severe, which yields the smallest infectious window size\n",
    "pct_self_reports_severe = 0.6\n",
    "\n",
    "daily_self_report_severe = 0.85\n",
    "daily_self_report_mild = 0.1\n",
    "\n",
    "# avg_infectious_window = (avg time in ID state) + (avg time in Sy state prior to self-reporting)\n",
    "avg_infectious_window = 4 + pct_self_reports_severe * (1 / daily_self_report_severe) + \\\n",
    "                        (1-pct_self_reports_severe) * (1 / daily_self_report_mild)\n",
    "print(avg_infectious_window)\n",
    "pre_reopen_population = 1500\n",
    "pre_reopen_daily_contacts = 7\n",
    "\n",
    "reopen_population = 2500\n",
    "reopen_daily_contacts = 10\n",
    "\n",
    "pre_reopen_params = {\n",
    "    'max_time_exposed': 4,\n",
    "    'exposed_time_function': poisson_waiting_function(max_time=4, mean_time=1),\n",
    "    \n",
    "    'max_time_pre_ID': 4,\n",
    "    'pre_ID_time_function': poisson_waiting_function(max_time=4, mean_time=1),\n",
    "    \n",
    "    'max_time_ID': 8,\n",
    "    'ID_time_function': poisson_waiting_function(max_time=8, mean_time=4),\n",
    "    \n",
    "    'max_time_SyID_mild': 14,\n",
    "    'SyID_mild_time_function': poisson_waiting_function(max_time=14, mean_time=10),\n",
    "    \n",
    "    'max_time_SyID_severe': 14,\n",
    "    'SyID_severe_time_function': poisson_waiting_function(max_time=14, mean_time=10),\n",
    "    \n",
    "    'sample_QI_exit_function': (lambda n: np.random.binomial(n, 0.05)),\n",
    "    'sample_QS_exit_function': (lambda n: np.random.binomial(n, 0.3)),\n",
    "    \n",
    "    'exposed_infection_p': 0.026,\n",
    "    'expected_contacts_per_day': pre_reopen_daily_contacts,\n",
    "    \n",
    "    'mild_symptoms_p': 0.4,\n",
    "    'mild_symptoms_daily_self_report_p': daily_self_report_mild,\n",
    "    'severe_symptoms_daily_self_report_p': daily_self_report_severe,\n",
    "    \n",
    "    'days_between_tests': 300,\n",
    "    'test_population_fraction': 0,\n",
    "    \n",
    "    'test_protocol_QFNR': 0.1,\n",
    "    'test_protocol_QFPR': 0.005,\n",
    "    \n",
    "    'perform_contact_tracing': True,\n",
    "    'contact_tracing_constant': 0.5,\n",
    "    'contact_tracing_delay': 1,\n",
    "    'contact_trace_infectious_window': avg_infectious_window,\n",
    "    \n",
    "    'pre_ID_state': 'detectable',\n",
    "    \n",
    "    'population_size': pre_reopen_population,\n",
    "    'initial_E_count': 0,\n",
    "    'initial_pre_ID_count': 2,\n",
    "    'initial_ID_count': 0,\n",
    "    'initial_ID_prevalence': 0.001,\n",
    "    'initial_SyID_mild_count': 0,\n",
    "    'initial_SyID_severe_count': 0\n",
    "}\n",
    "\n",
    "reopen_params = pre_reopen_params.copy()\n",
    "reopen_params['population_size'] = reopen_population\n",
    "reopen_params['expected_contacts_per_day'] = reopen_daily_contacts"
   ]
  },
  {
   "cell_type": "code",
   "execution_count": 3,
   "metadata": {},
   "outputs": [
    {
     "name": "stdout",
     "output_type": "stream",
     "text": [
      "Done simulating ID_time_function equal to <function poisson_waiting_function.<locals>.<lambda> at 0x0000025FC510D730>\n",
      "Done simulating ID_time_function equal to <function poisson_waiting_function.<locals>.<lambda> at 0x0000025FC510DC80>\n",
      "Done simulating ID_time_function equal to <function poisson_waiting_function.<locals>.<lambda> at 0x0000025FC7EFF1E0>\n",
      "Done simulating ID_time_function equal to <function poisson_waiting_function.<locals>.<lambda> at 0x0000025FC7EFF268>\n",
      "Done simulating ID_time_function equal to <function poisson_waiting_function.<locals>.<lambda> at 0x0000025FC7EFF2F0>\n",
      "Done simulating ID_time_function equal to <function poisson_waiting_function.<locals>.<lambda> at 0x0000025FC7EFF378>\n",
      "Done simulating ID_time_function equal to <function poisson_waiting_function.<locals>.<lambda> at 0x0000025FC7EFF400>\n",
      "Done simulating ID_time_function equal to <function poisson_waiting_function.<locals>.<lambda> at 0x0000025FC7EFF488>\n",
      "Done simulating ID_time_function equal to <function poisson_waiting_function.<locals>.<lambda> at 0x0000025FC7EFF510>\n",
      "Done simulating ID_time_function equal to <function poisson_waiting_function.<locals>.<lambda> at 0x0000025FC7EFF598>\n",
      "Done simulating ID_time_function equal to <function poisson_waiting_function.<locals>.<lambda> at 0x0000025FC7EFF620>\n",
      "Done simulating ID_time_function equal to <function poisson_waiting_function.<locals>.<lambda> at 0x0000025FC510D730>\n",
      "Done simulating ID_time_function equal to <function poisson_waiting_function.<locals>.<lambda> at 0x0000025FC510DC80>\n",
      "Done simulating ID_time_function equal to <function poisson_waiting_function.<locals>.<lambda> at 0x0000025FC7EFF1E0>\n",
      "Done simulating ID_time_function equal to <function poisson_waiting_function.<locals>.<lambda> at 0x0000025FC7EFF268>\n",
      "Done simulating ID_time_function equal to <function poisson_waiting_function.<locals>.<lambda> at 0x0000025FC7EFF2F0>\n",
      "Done simulating ID_time_function equal to <function poisson_waiting_function.<locals>.<lambda> at 0x0000025FC7EFF378>\n",
      "Done simulating ID_time_function equal to <function poisson_waiting_function.<locals>.<lambda> at 0x0000025FC7EFF400>\n",
      "Done simulating ID_time_function equal to <function poisson_waiting_function.<locals>.<lambda> at 0x0000025FC7EFF488>\n",
      "Done simulating ID_time_function equal to <function poisson_waiting_function.<locals>.<lambda> at 0x0000025FC7EFF510>\n",
      "Done simulating ID_time_function equal to <function poisson_waiting_function.<locals>.<lambda> at 0x0000025FC7EFF598>\n",
      "Done simulating ID_time_function equal to <function poisson_waiting_function.<locals>.<lambda> at 0x0000025FC7EFF620>\n"
     ]
    }
   ],
   "source": [
    "ID_avg_range = [poisson_waiting_function(max_time = 20, mean_time=0.1 * x) for x in range(11)]\n",
    "dfs_reporting_severe_pre_reopen = run_sensitivity_sims(pre_reopen_params, param_to_vary='ID_time_function',\n",
    "                                     param_values = ID_function_range, trajectories_per_config=250, time_horizon=100)\n",
    "dfs_reporting_severe_post_reopen = run_sensitivity_sims(reopen_params, param_to_vary='ID_time_function',\n",
    "                                     param_values = ID_function_range, trajectories_per_config=250, time_horizon=100)"
   ]
  },
  {
   "cell_type": "code",
   "execution_count": null,
   "metadata": {},
   "outputs": [],
   "source": []
  }
 ],
 "metadata": {
  "kernelspec": {
   "display_name": "Python 3",
   "language": "python",
   "name": "python3"
  },
  "language_info": {
   "codemirror_mode": {
    "name": "ipython",
    "version": 3
   },
   "file_extension": ".py",
   "mimetype": "text/x-python",
   "name": "python",
   "nbconvert_exporter": "python",
   "pygments_lexer": "ipython3",
   "version": "3.7.3"
  }
 },
 "nbformat": 4,
 "nbformat_minor": 2
}
