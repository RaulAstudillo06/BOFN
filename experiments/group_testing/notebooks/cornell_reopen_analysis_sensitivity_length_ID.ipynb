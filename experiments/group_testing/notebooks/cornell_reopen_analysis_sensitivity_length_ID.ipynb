{
 "cells": [
  {
   "cell_type": "code",
   "execution_count": 1,
   "metadata": {},
   "outputs": [],
   "source": [
    "import sys\n",
    "import os\n",
    "import numpy as np\n",
    "module_path = os.path.abspath(os.path.join('..'))\n",
    "if module_path not in sys.path:\n",
    "    sys.path.append(module_path + \"/src/simulations_v2\")\n",
    "\n",
    "from analysis_helpers import poisson_waiting_function, \\\n",
    "                            run_multiple_trajectories, \\\n",
    "                            plot_aip_vs_t, \\\n",
    "                            plot_cip_vs_t, \\\n",
    "                            run_sensitivity_sims, \\\n",
    "                            run_sensitivity_sims_time_dist, \\\n",
    "                            extract_cips"
   ]
  },
  {
   "cell_type": "code",
   "execution_count": 2,
   "metadata": {},
   "outputs": [
    {
     "name": "stdout",
     "output_type": "stream",
     "text": [
      "8.705882352941178\n"
     ]
    }
   ],
   "source": [
    "# what percent of self-reports are from severe symptoms?  \n",
    "# in reality I think this value will vary a lot in the first few days, \n",
    "# and then reach some kind of steady-state, and I'm not sure what makes the most\n",
    "# sense to use here.  I am setting it to the very pessimistic value of 100% of\n",
    "# self-reporters are severe, which yields the smallest infectious window size\n",
    "pct_self_reports_severe = 0.6\n",
    "\n",
    "daily_self_report_severe = 0.85\n",
    "daily_self_report_mild = 0.1\n",
    "\n",
    "# avg_infectious_window = (avg time in ID state) + (avg time in Sy state prior to self-reporting)\n",
    "avg_infectious_window = 4 + pct_self_reports_severe * (1 / daily_self_report_severe) + \\\n",
    "                        (1-pct_self_reports_severe) * (1 / daily_self_report_mild)\n",
    "print(avg_infectious_window)\n",
    "pre_reopen_population = 1500\n",
    "pre_reopen_daily_contacts = 7\n",
    "\n",
    "reopen_population = 2500\n",
    "reopen_daily_contacts = 10\n",
    "\n",
    "pre_reopen_params = {\n",
    "    'max_time_exposed': 4,\n",
    "    'exposed_time_function': poisson_waiting_function(max_time=4, mean_time=1),\n",
    "    \n",
    "    'max_time_pre_ID': 4,\n",
    "    'pre_ID_time_function': poisson_waiting_function(max_time=4, mean_time=1),\n",
    "    \n",
    "    'max_time_ID': 8,\n",
    "    'ID_time_function': poisson_waiting_function(max_time=8, mean_time=4),\n",
    "    \n",
    "    'max_time_SyID_mild': 14,\n",
    "    'SyID_mild_time_function': poisson_waiting_function(max_time=14, mean_time=10),\n",
    "    \n",
    "    'max_time_SyID_severe': 14,\n",
    "    'SyID_severe_time_function': poisson_waiting_function(max_time=14, mean_time=10),\n",
    "    \n",
    "    'sample_QI_exit_function': (lambda n: np.random.binomial(n, 0.05)),\n",
    "    'sample_QS_exit_function': (lambda n: np.random.binomial(n, 0.3)),\n",
    "    \n",
    "    'exposed_infection_p': 0.026,\n",
    "    'expected_contacts_per_day': pre_reopen_daily_contacts,\n",
    "    \n",
    "    'mild_symptoms_p': 0.4,\n",
    "    'mild_symptoms_daily_self_report_p': daily_self_report_mild,\n",
    "    'severe_symptoms_daily_self_report_p': daily_self_report_severe,\n",
    "    \n",
    "    'days_between_tests': 300,\n",
    "    'test_population_fraction': 0,\n",
    "    \n",
    "    'test_protocol_QFNR': 0.1,\n",
    "    'test_protocol_QFPR': 0.005,\n",
    "    \n",
    "    'perform_contact_tracing': True,\n",
    "    'contact_tracing_constant': 0.5,\n",
    "    'contact_tracing_delay': 1,\n",
    "    'contact_trace_infectious_window': avg_infectious_window,\n",
    "    \n",
    "    'pre_ID_state': 'detectable',\n",
    "    \n",
    "    'population_size': pre_reopen_population,\n",
    "    'initial_E_count': 0,\n",
    "    'initial_pre_ID_count': 2,\n",
    "    'initial_ID_count': 0,\n",
    "    'initial_ID_prevalence': 0.001,\n",
    "    'initial_SyID_mild_count': 0,\n",
    "    'initial_SyID_severe_count': 0\n",
    "}\n",
    "\n",
    "reopen_params = pre_reopen_params.copy()\n",
    "reopen_params['population_size'] = reopen_population\n",
    "reopen_params['expected_contacts_per_day'] = reopen_daily_contacts"
   ]
  },
  {
   "cell_type": "code",
   "execution_count": 3,
   "metadata": {},
   "outputs": [
    {
     "name": "stdout",
     "output_type": "stream",
     "text": [
      "Done simulating time in ID with average length 1\n",
      "Done simulating time in ID with average length 2\n",
      "Done simulating time in ID with average length 1\n",
      "Done simulating time in ID with average length 2\n"
     ]
    }
   ],
   "source": [
    "ID_avg_range = [x for x in range(1,3)]\n",
    "ID_max_range = [max(2*x, 8) for x in range(1,3)]\n",
    "dfs_ID_pre_reopen = run_sensitivity_sims_time_dist(pre_reopen_params, state_sensitivity='ID', param_avg_values=ID_avg_range,\n",
    "                                     param_max_values = ID_max_range, trajectories_per_config=250, time_horizon=100)\n",
    "dfs_ID_post_reopen = run_sensitivity_sims_time_dist(reopen_params, state_sensitivity='ID', param_avg_values=ID_avg_range,\n",
    "                                     param_max_values = ID_max_range, trajectories_per_config=250, time_horizon=100)"
   ]
  },
  {
   "cell_type": "code",
   "execution_count": 4,
   "metadata": {},
   "outputs": [
    {
     "data": {
      "image/png": "[encoded data removed]",
      "text/plain": [
       "<Figure size 720x432 with 1 Axes>"
      ]
     },
     "metadata": {
      "needs_background": "light"
     },
     "output_type": "display_data"
    }
   ],
   "source": [
    "import matplotlib.pyplot as plt\n",
    "def plot_many_dfs_threshold(dfs_dict, threshold=0.1, xlabel=\"\", title=\"\", figsize=(10,6)):\n",
    "    plt.figure(figsize=figsize)\n",
    "    for df_label, dfs_varied in dfs_dict.items():\n",
    "        p_thresholds = []\n",
    "        xs = sorted(list(dfs_varied.keys()))\n",
    "        for x in xs:\n",
    "            cips = extract_cips(dfs_varied[x])\n",
    "            cip_exceed_thresh = [cip for cip in cips if cip >= threshold]\n",
    "            p_thresholds.append(len(cip_exceed_thresh) / len(cips) * 100)\n",
    "        plt.plot([x * 100 for x in xs], p_thresholds, marker='o', label=df_label)\n",
    "    plt.xlabel(xlabel)\n",
    "    plt.xscale(\"log\")\n",
    "    plt.ylabel(\"Probability at least {:.0f}% infected (%)\".format(threshold * 100))\n",
    "    plt.title(title)\n",
    "    plt.legend(loc='best')\n",
    "    plt.show()\n",
    "\n",
    "title = \"\"\"Outbreak Likelihood vs. Distribution of time in ID\"\"\"\n",
    "plot_many_dfs_threshold({'Post-Reopen (Population-size 2500, Contacts/person/day 10)': dfs_ID_post_reopen,\n",
    "                         'Pre-Reopen (Population-size 1500, Contacts/person/day 7)': dfs_ID_pre_reopen, \n",
    "                         }, \n",
    "                        xlabel=\"Initial Prevalence (%)\",\n",
    "                       title=title)"
   ]
  }
 ],
 "metadata": {
  "kernelspec": {
   "display_name": "Python 3",
   "language": "python",
   "name": "python3"
  },
  "language_info": {
   "codemirror_mode": {
    "name": "ipython",
    "version": 3
   },
   "file_extension": ".py",
   "mimetype": "text/x-python",
   "name": "python",
   "nbconvert_exporter": "python",
   "pygments_lexer": "ipython3",
   "version": "3.7.3"
  }
 },
 "nbformat": 4,
 "nbformat_minor": 2
}
